{
  "cells": [
    {
      "cell_type": "code",
      "execution_count": null,
      "id": "f9b87379",
      "metadata": {
        "id": "f9b87379",
        "outputId": "59929e6f-61dd-4898-ad44-6199896eeb0b"
      },
      "outputs": [
        {
          "name": "stderr",
          "output_type": "stream",
          "text": [
            "C:\\Users\\PC\\anaconda3\\envs\\tensorflow\\lib\\site-packages\\scipy\\__init__.py:146: UserWarning: A NumPy version >=1.16.5 and <1.23.0 is required for this version of SciPy (detected version 1.23.0\n",
            "  warnings.warn(f\"A NumPy version >={np_minversion} and <{np_maxversion}\"\n"
          ]
        }
      ],
      "source": [
        "#importing Libraries\n",
        "import pandas as pd #Used for reading data\n",
        "import matplotlib.pyplot as plt #used for data visualization\n",
        "import seaborn as sns #Used Data Visualization\n",
        "%matplotlib inline #Used Visualization"
      ]
    },
    {
      "cell_type": "code",
      "execution_count": null,
      "id": "fde121ad",
      "metadata": {
        "id": "fde121ad"
      },
      "outputs": [],
      "source": [
        "#Reading the data into working Directory\n",
        "data =  pd.read_csv('oasis_longitudinal.csv')"
      ]
    },
    {
      "cell_type": "code",
      "execution_count": null,
      "id": "a7c2e284",
      "metadata": {
        "id": "a7c2e284",
        "outputId": "1296c665-868b-45ca-eaea-0f8b45d6bf78"
      },
      "outputs": [
        {
          "data": {
            "text/html": [
              "<div>\n",
              "<style scoped>\n",
              "    .dataframe tbody tr th:only-of-type {\n",
              "        vertical-align: middle;\n",
              "    }\n",
              "\n",
              "    .dataframe tbody tr th {\n",
              "        vertical-align: top;\n",
              "    }\n",
              "\n",
              "    .dataframe thead th {\n",
              "        text-align: right;\n",
              "    }\n",
              "</style>\n",
              "<table border=\"1\" class=\"dataframe\">\n",
              "  <thead>\n",
              "    <tr style=\"text-align: right;\">\n",
              "      <th></th>\n",
              "      <th>Subject ID</th>\n",
              "      <th>MRI ID</th>\n",
              "      <th>Group</th>\n",
              "      <th>Visit</th>\n",
              "      <th>MR Delay</th>\n",
              "      <th>M/F</th>\n",
              "      <th>Hand</th>\n",
              "      <th>Age</th>\n",
              "      <th>EDUC</th>\n",
              "      <th>SES</th>\n",
              "      <th>MMSE</th>\n",
              "      <th>CDR</th>\n",
              "      <th>eTIV</th>\n",
              "      <th>nWBV</th>\n",
              "      <th>ASF</th>\n",
              "    </tr>\n",
              "  </thead>\n",
              "  <tbody>\n",
              "    <tr>\n",
              "      <th>0</th>\n",
              "      <td>OAS2_0001</td>\n",
              "      <td>OAS2_0001_MR1</td>\n",
              "      <td>Nondemented</td>\n",
              "      <td>1</td>\n",
              "      <td>0</td>\n",
              "      <td>M</td>\n",
              "      <td>R</td>\n",
              "      <td>87</td>\n",
              "      <td>14</td>\n",
              "      <td>2.0</td>\n",
              "      <td>27.0</td>\n",
              "      <td>0.0</td>\n",
              "      <td>1987</td>\n",
              "      <td>0.696</td>\n",
              "      <td>0.883</td>\n",
              "    </tr>\n",
              "    <tr>\n",
              "      <th>1</th>\n",
              "      <td>OAS2_0001</td>\n",
              "      <td>OAS2_0001_MR2</td>\n",
              "      <td>Nondemented</td>\n",
              "      <td>2</td>\n",
              "      <td>457</td>\n",
              "      <td>M</td>\n",
              "      <td>R</td>\n",
              "      <td>88</td>\n",
              "      <td>14</td>\n",
              "      <td>2.0</td>\n",
              "      <td>30.0</td>\n",
              "      <td>0.0</td>\n",
              "      <td>2004</td>\n",
              "      <td>0.681</td>\n",
              "      <td>0.876</td>\n",
              "    </tr>\n",
              "    <tr>\n",
              "      <th>2</th>\n",
              "      <td>OAS2_0002</td>\n",
              "      <td>OAS2_0002_MR1</td>\n",
              "      <td>Demented</td>\n",
              "      <td>1</td>\n",
              "      <td>0</td>\n",
              "      <td>M</td>\n",
              "      <td>R</td>\n",
              "      <td>75</td>\n",
              "      <td>12</td>\n",
              "      <td>NaN</td>\n",
              "      <td>23.0</td>\n",
              "      <td>0.5</td>\n",
              "      <td>1678</td>\n",
              "      <td>0.736</td>\n",
              "      <td>1.046</td>\n",
              "    </tr>\n",
              "    <tr>\n",
              "      <th>3</th>\n",
              "      <td>OAS2_0002</td>\n",
              "      <td>OAS2_0002_MR2</td>\n",
              "      <td>Demented</td>\n",
              "      <td>2</td>\n",
              "      <td>560</td>\n",
              "      <td>M</td>\n",
              "      <td>R</td>\n",
              "      <td>76</td>\n",
              "      <td>12</td>\n",
              "      <td>NaN</td>\n",
              "      <td>28.0</td>\n",
              "      <td>0.5</td>\n",
              "      <td>1738</td>\n",
              "      <td>0.713</td>\n",
              "      <td>1.010</td>\n",
              "    </tr>\n",
              "    <tr>\n",
              "      <th>4</th>\n",
              "      <td>OAS2_0002</td>\n",
              "      <td>OAS2_0002_MR3</td>\n",
              "      <td>Demented</td>\n",
              "      <td>3</td>\n",
              "      <td>1895</td>\n",
              "      <td>M</td>\n",
              "      <td>R</td>\n",
              "      <td>80</td>\n",
              "      <td>12</td>\n",
              "      <td>NaN</td>\n",
              "      <td>22.0</td>\n",
              "      <td>0.5</td>\n",
              "      <td>1698</td>\n",
              "      <td>0.701</td>\n",
              "      <td>1.034</td>\n",
              "    </tr>\n",
              "    <tr>\n",
              "      <th>5</th>\n",
              "      <td>OAS2_0004</td>\n",
              "      <td>OAS2_0004_MR1</td>\n",
              "      <td>Nondemented</td>\n",
              "      <td>1</td>\n",
              "      <td>0</td>\n",
              "      <td>F</td>\n",
              "      <td>R</td>\n",
              "      <td>88</td>\n",
              "      <td>18</td>\n",
              "      <td>3.0</td>\n",
              "      <td>28.0</td>\n",
              "      <td>0.0</td>\n",
              "      <td>1215</td>\n",
              "      <td>0.710</td>\n",
              "      <td>1.444</td>\n",
              "    </tr>\n",
              "    <tr>\n",
              "      <th>6</th>\n",
              "      <td>OAS2_0004</td>\n",
              "      <td>OAS2_0004_MR2</td>\n",
              "      <td>Nondemented</td>\n",
              "      <td>2</td>\n",
              "      <td>538</td>\n",
              "      <td>F</td>\n",
              "      <td>R</td>\n",
              "      <td>90</td>\n",
              "      <td>18</td>\n",
              "      <td>3.0</td>\n",
              "      <td>27.0</td>\n",
              "      <td>0.0</td>\n",
              "      <td>1200</td>\n",
              "      <td>0.718</td>\n",
              "      <td>1.462</td>\n",
              "    </tr>\n",
              "    <tr>\n",
              "      <th>7</th>\n",
              "      <td>OAS2_0005</td>\n",
              "      <td>OAS2_0005_MR1</td>\n",
              "      <td>Nondemented</td>\n",
              "      <td>1</td>\n",
              "      <td>0</td>\n",
              "      <td>M</td>\n",
              "      <td>R</td>\n",
              "      <td>80</td>\n",
              "      <td>12</td>\n",
              "      <td>4.0</td>\n",
              "      <td>28.0</td>\n",
              "      <td>0.0</td>\n",
              "      <td>1689</td>\n",
              "      <td>0.712</td>\n",
              "      <td>1.039</td>\n",
              "    </tr>\n",
              "    <tr>\n",
              "      <th>8</th>\n",
              "      <td>OAS2_0005</td>\n",
              "      <td>OAS2_0005_MR2</td>\n",
              "      <td>Nondemented</td>\n",
              "      <td>2</td>\n",
              "      <td>1010</td>\n",
              "      <td>M</td>\n",
              "      <td>R</td>\n",
              "      <td>83</td>\n",
              "      <td>12</td>\n",
              "      <td>4.0</td>\n",
              "      <td>29.0</td>\n",
              "      <td>0.5</td>\n",
              "      <td>1701</td>\n",
              "      <td>0.711</td>\n",
              "      <td>1.032</td>\n",
              "    </tr>\n",
              "    <tr>\n",
              "      <th>9</th>\n",
              "      <td>OAS2_0005</td>\n",
              "      <td>OAS2_0005_MR3</td>\n",
              "      <td>Nondemented</td>\n",
              "      <td>3</td>\n",
              "      <td>1603</td>\n",
              "      <td>M</td>\n",
              "      <td>R</td>\n",
              "      <td>85</td>\n",
              "      <td>12</td>\n",
              "      <td>4.0</td>\n",
              "      <td>30.0</td>\n",
              "      <td>0.0</td>\n",
              "      <td>1699</td>\n",
              "      <td>0.705</td>\n",
              "      <td>1.033</td>\n",
              "    </tr>\n",
              "    <tr>\n",
              "      <th>10</th>\n",
              "      <td>OAS2_0007</td>\n",
              "      <td>OAS2_0007_MR1</td>\n",
              "      <td>Demented</td>\n",
              "      <td>1</td>\n",
              "      <td>0</td>\n",
              "      <td>M</td>\n",
              "      <td>R</td>\n",
              "      <td>71</td>\n",
              "      <td>16</td>\n",
              "      <td>NaN</td>\n",
              "      <td>28.0</td>\n",
              "      <td>0.5</td>\n",
              "      <td>1357</td>\n",
              "      <td>0.748</td>\n",
              "      <td>1.293</td>\n",
              "    </tr>\n",
              "    <tr>\n",
              "      <th>11</th>\n",
              "      <td>OAS2_0007</td>\n",
              "      <td>OAS2_0007_MR3</td>\n",
              "      <td>Demented</td>\n",
              "      <td>3</td>\n",
              "      <td>518</td>\n",
              "      <td>M</td>\n",
              "      <td>R</td>\n",
              "      <td>73</td>\n",
              "      <td>16</td>\n",
              "      <td>NaN</td>\n",
              "      <td>27.0</td>\n",
              "      <td>1.0</td>\n",
              "      <td>1365</td>\n",
              "      <td>0.727</td>\n",
              "      <td>1.286</td>\n",
              "    </tr>\n",
              "    <tr>\n",
              "      <th>12</th>\n",
              "      <td>OAS2_0007</td>\n",
              "      <td>OAS2_0007_MR4</td>\n",
              "      <td>Demented</td>\n",
              "      <td>4</td>\n",
              "      <td>1281</td>\n",
              "      <td>M</td>\n",
              "      <td>R</td>\n",
              "      <td>75</td>\n",
              "      <td>16</td>\n",
              "      <td>NaN</td>\n",
              "      <td>27.0</td>\n",
              "      <td>1.0</td>\n",
              "      <td>1372</td>\n",
              "      <td>0.710</td>\n",
              "      <td>1.279</td>\n",
              "    </tr>\n",
              "    <tr>\n",
              "      <th>13</th>\n",
              "      <td>OAS2_0008</td>\n",
              "      <td>OAS2_0008_MR1</td>\n",
              "      <td>Nondemented</td>\n",
              "      <td>1</td>\n",
              "      <td>0</td>\n",
              "      <td>F</td>\n",
              "      <td>R</td>\n",
              "      <td>93</td>\n",
              "      <td>14</td>\n",
              "      <td>2.0</td>\n",
              "      <td>30.0</td>\n",
              "      <td>0.0</td>\n",
              "      <td>1272</td>\n",
              "      <td>0.698</td>\n",
              "      <td>1.380</td>\n",
              "    </tr>\n",
              "    <tr>\n",
              "      <th>14</th>\n",
              "      <td>OAS2_0008</td>\n",
              "      <td>OAS2_0008_MR2</td>\n",
              "      <td>Nondemented</td>\n",
              "      <td>2</td>\n",
              "      <td>742</td>\n",
              "      <td>F</td>\n",
              "      <td>R</td>\n",
              "      <td>95</td>\n",
              "      <td>14</td>\n",
              "      <td>2.0</td>\n",
              "      <td>29.0</td>\n",
              "      <td>0.0</td>\n",
              "      <td>1257</td>\n",
              "      <td>0.703</td>\n",
              "      <td>1.396</td>\n",
              "    </tr>\n",
              "  </tbody>\n",
              "</table>\n",
              "</div>"
            ],
            "text/plain": [
              "   Subject ID         MRI ID        Group  Visit  MR Delay M/F Hand  Age  \\\n",
              "0   OAS2_0001  OAS2_0001_MR1  Nondemented      1         0   M    R   87   \n",
              "1   OAS2_0001  OAS2_0001_MR2  Nondemented      2       457   M    R   88   \n",
              "2   OAS2_0002  OAS2_0002_MR1     Demented      1         0   M    R   75   \n",
              "3   OAS2_0002  OAS2_0002_MR2     Demented      2       560   M    R   76   \n",
              "4   OAS2_0002  OAS2_0002_MR3     Demented      3      1895   M    R   80   \n",
              "5   OAS2_0004  OAS2_0004_MR1  Nondemented      1         0   F    R   88   \n",
              "6   OAS2_0004  OAS2_0004_MR2  Nondemented      2       538   F    R   90   \n",
              "7   OAS2_0005  OAS2_0005_MR1  Nondemented      1         0   M    R   80   \n",
              "8   OAS2_0005  OAS2_0005_MR2  Nondemented      2      1010   M    R   83   \n",
              "9   OAS2_0005  OAS2_0005_MR3  Nondemented      3      1603   M    R   85   \n",
              "10  OAS2_0007  OAS2_0007_MR1     Demented      1         0   M    R   71   \n",
              "11  OAS2_0007  OAS2_0007_MR3     Demented      3       518   M    R   73   \n",
              "12  OAS2_0007  OAS2_0007_MR4     Demented      4      1281   M    R   75   \n",
              "13  OAS2_0008  OAS2_0008_MR1  Nondemented      1         0   F    R   93   \n",
              "14  OAS2_0008  OAS2_0008_MR2  Nondemented      2       742   F    R   95   \n",
              "\n",
              "    EDUC  SES  MMSE  CDR  eTIV   nWBV    ASF  \n",
              "0     14  2.0  27.0  0.0  1987  0.696  0.883  \n",
              "1     14  2.0  30.0  0.0  2004  0.681  0.876  \n",
              "2     12  NaN  23.0  0.5  1678  0.736  1.046  \n",
              "3     12  NaN  28.0  0.5  1738  0.713  1.010  \n",
              "4     12  NaN  22.0  0.5  1698  0.701  1.034  \n",
              "5     18  3.0  28.0  0.0  1215  0.710  1.444  \n",
              "6     18  3.0  27.0  0.0  1200  0.718  1.462  \n",
              "7     12  4.0  28.0  0.0  1689  0.712  1.039  \n",
              "8     12  4.0  29.0  0.5  1701  0.711  1.032  \n",
              "9     12  4.0  30.0  0.0  1699  0.705  1.033  \n",
              "10    16  NaN  28.0  0.5  1357  0.748  1.293  \n",
              "11    16  NaN  27.0  1.0  1365  0.727  1.286  \n",
              "12    16  NaN  27.0  1.0  1372  0.710  1.279  \n",
              "13    14  2.0  30.0  0.0  1272  0.698  1.380  \n",
              "14    14  2.0  29.0  0.0  1257  0.703  1.396  "
            ]
          },
          "execution_count": 3,
          "metadata": {},
          "output_type": "execute_result"
        }
      ],
      "source": [
        "#Displaying the First 15 rows\n",
        "data.head(15)"
      ]
    },
    {
      "cell_type": "code",
      "execution_count": null,
      "id": "a94468f0",
      "metadata": {
        "id": "a94468f0",
        "outputId": "969a509c-05e0-46b5-f398-17d179b09f9c"
      },
      "outputs": [
        {
          "data": {
            "text/plain": [
              "Subject ID     0\n",
              "MRI ID         0\n",
              "Group          0\n",
              "Visit          0\n",
              "MR Delay       0\n",
              "M/F            0\n",
              "Hand           0\n",
              "Age            0\n",
              "EDUC           0\n",
              "SES           19\n",
              "MMSE           2\n",
              "CDR            0\n",
              "eTIV           0\n",
              "nWBV           0\n",
              "ASF            0\n",
              "dtype: int64"
            ]
          },
          "execution_count": 4,
          "metadata": {},
          "output_type": "execute_result"
        },
        {
          "data": {
            "image/png": "[encoded data removed]",
            "text/plain": [
              "<Figure size 432x288 with 2 Axes>"
            ]
          },
          "metadata": {
            "needs_background": "light"
          },
          "output_type": "display_data"
        },
        {
          "data": {
            "text/plain": [
              "<Figure size 576x432 with 0 Axes>"
            ]
          },
          "metadata": {},
          "output_type": "display_data"
        }
      ],
      "source": [
        "#Checking if the data is null\n",
        "sns.heatmap(data.isnull(), cmap='viridis')\n",
        "plt.figure(figsize=(8,6))\n",
        "data.isnull().sum()"
      ]
    },
    {
      "cell_type": "code",
      "execution_count": null,
      "id": "bcb3b5f0",
      "metadata": {
        "id": "bcb3b5f0"
      },
      "outputs": [],
      "source": [
        "#fill null value with their column mean and median\n",
        "data[\"SES\"].fillna(data[\"SES\"].median(), inplace=True)\n",
        "data[\"MMSE\"].fillna(data[\"MMSE\"].mean(), inplace=True)"
      ]
    },
    {
      "cell_type": "code",
      "execution_count": null,
      "id": "4cc44ac7",
      "metadata": {
        "id": "4cc44ac7",
        "outputId": "558c8d60-81a4-40b9-991e-e84bcab1e9e8"
      },
      "outputs": [
        {
          "data": {
            "text/plain": [
              "Subject ID    0\n",
              "MRI ID        0\n",
              "Group         0\n",
              "Visit         0\n",
              "MR Delay      0\n",
              "M/F           0\n",
              "Hand          0\n",
              "Age           0\n",
              "EDUC          0\n",
              "SES           0\n",
              "MMSE          0\n",
              "CDR           0\n",
              "eTIV          0\n",
              "nWBV          0\n",
              "ASF           0\n",
              "dtype: int64"
            ]
          },
          "execution_count": 6,
          "metadata": {},
          "output_type": "execute_result"
        },
        {
          "data": {
            "image/png": "[encoded data removed]",
            "text/plain": [
              "<Figure size 432x288 with 2 Axes>"
            ]
          },
          "metadata": {
            "needs_background": "light"
          },
          "output_type": "display_data"
        },
        {
          "data": {
            "text/plain": [
              "<Figure size 576x432 with 0 Axes>"
            ]
          },
          "metadata": {},
          "output_type": "display_data"
        }
      ],
      "source": [
        "#Checking if the data is null\n",
        "sns.heatmap(data.isnull(), cmap='viridis')\n",
        "plt.figure(figsize=(8,6))\n",
        "data.isnull().sum()"
      ]
    },
    {
      "cell_type": "code",
      "execution_count": null,
      "id": "ab4ae311",
      "metadata": {
        "id": "ab4ae311",
        "outputId": "1d38b5f6-8dde-48d7-8f20-e867c4a9d085"
      },
      "outputs": [
        {
          "name": "stderr",
          "output_type": "stream",
          "text": [
            "C:\\Users\\PC\\anaconda3\\envs\\tensorflow\\lib\\site-packages\\seaborn\\_decorators.py:36: FutureWarning: Pass the following variable as a keyword arg: x. From version 0.12, the only valid positional argument will be `data`, and passing other arguments without an explicit keyword will result in an error or misinterpretation.\n",
            "  warnings.warn(\n"
          ]
        },
        {
          "data": {
            "text/plain": [
              "[Text(0, 0, 'Non Demented'), Text(1, 0, 'Demented'), Text(2, 0, 'Converted')]"
            ]
          },
          "execution_count": 7,
          "metadata": {},
          "output_type": "execute_result"
        },
        {
          "data": {
            "image/png": "[encoded data removed]",
            "text/plain": [
              "<Figure size 576x432 with 1 Axes>"
            ]
          },
          "metadata": {
            "needs_background": "light"
          },
          "output_type": "display_data"
        }
      ],
      "source": [
        "#Plotting a histogram distribution\n",
        "plt.figure(figsize=(8, 6))\n",
        "ax=sns.countplot(data['Group'])\n",
        "ax.set_xticklabels(['Non Demented', 'Demented','Converted'])"
      ]
    },
    {
      "cell_type": "code",
      "execution_count": null,
      "id": "787b2e7f",
      "metadata": {
        "id": "787b2e7f",
        "outputId": "e2a21050-92aa-4235-e7b1-dc60d832b263"
      },
      "outputs": [
        {
          "name": "stdout",
          "output_type": "stream",
          "text": [
            "              M    F\n",
            "Demented     86   60\n",
            "Nondemented  61  129\n"
          ]
        },
        {
          "data": {
            "text/plain": [
              "Text(0.5, 1.0, 'Gender and Demented rate')"
            ]
          },
          "execution_count": 8,
          "metadata": {},
          "output_type": "execute_result"
        },
        {
          "data": {
            "image/png": "[encoded data removed]",
            "text/plain": [
              "<Figure size 576x360 with 1 Axes>"
            ]
          },
          "metadata": {
            "needs_background": "light"
          },
          "output_type": "display_data"
        }
      ],
      "source": [
        "#Defining Function for Barchart\n",
        "def bar_chart(feature):\n",
        "    Demented = data[data['Group']=='Demented'][feature].value_counts()\n",
        "    Nondemented = data[data['Group']=='Nondemented'][feature].value_counts()\n",
        "    df_bar = pd.DataFrame([Demented,Nondemented])\n",
        "    df_bar.index = ['Demented','Nondemented']\n",
        "    df_bar.plot(kind='bar',stacked=True, figsize=(8,5))\n",
        "    print(df_bar)\n",
        "                \n",
        "                \n",
        "# Gender  and  Group ( Female=0, Male=1)\n",
        "bar_chart('M/F')\n",
        "plt.xlabel('Group',fontsize=13)\n",
        "plt.xticks(rotation=0,fontsize=12)\n",
        "plt.ylabel('Number of patients',fontsize=13)\n",
        "plt.legend()\n",
        "plt.title('Gender and Demented rate',fontsize=14)"
      ]
    },
    {
      "cell_type": "code",
      "execution_count": null,
      "id": "8a8e882a",
      "metadata": {
        "id": "8a8e882a",
        "outputId": "ee499143-98c0-4420-d2b3-b10d876940a6"
      },
      "outputs": [
        {
          "data": {
            "text/plain": [
              "(50.0, 100.0)"
            ]
          },
          "execution_count": 9,
          "metadata": {},
          "output_type": "execute_result"
        },
        {
          "data": {
            "image/png": "[encoded data removed]",
            "text/plain": [
              "<Figure size 754.875x216 with 1 Axes>"
            ]
          },
          "metadata": {
            "needs_background": "light"
          },
          "output_type": "display_data"
        }
      ],
      "source": [
        "#AGE vs Non-demented and demented\n",
        "facet= sns.FacetGrid(data,hue=\"Group\", aspect=3)\n",
        "facet.map(sns.kdeplot,'Age',shade= True)\n",
        "facet.set(xlim=(0, data['Age'].max()))\n",
        "facet.add_legend()\n",
        "plt.xlim(50, 100)"
      ]
    },
    {
      "cell_type": "code",
      "execution_count": null,
      "id": "e28fd295",
      "metadata": {
        "id": "e28fd295"
      },
      "outputs": [],
      "source": [
        "#Importing train test split\n",
        "from sklearn.model_selection import train_test_split"
      ]
    },
    {
      "cell_type": "markdown",
      "id": "cffadfa3",
      "metadata": {
        "id": "cffadfa3"
      },
      "source": [
        "# HEART DATASET "
      ]
    },
    {
      "cell_type": "code",
      "execution_count": null,
      "id": "08b1b80d",
      "metadata": {
        "id": "08b1b80d"
      },
      "outputs": [],
      "source": [
        "#Reading data\n",
        "heart_disease = pd.read_csv('Heart.csv')"
      ]
    },
    {
      "cell_type": "code",
      "execution_count": null,
      "id": "a8c1b3e1",
      "metadata": {
        "id": "a8c1b3e1",
        "outputId": "6650b14e-4276-43fe-d5f5-fc31b24cf4d2"
      },
      "outputs": [
        {
          "data": {
            "text/html": [
              "<div>\n",
              "<style scoped>\n",
              "    .dataframe tbody tr th:only-of-type {\n",
              "        vertical-align: middle;\n",
              "    }\n",
              "\n",
              "    .dataframe tbody tr th {\n",
              "        vertical-align: top;\n",
              "    }\n",
              "\n",
              "    .dataframe thead th {\n",
              "        text-align: right;\n",
              "    }\n",
              "</style>\n",
              "<table border=\"1\" class=\"dataframe\">\n",
              "  <thead>\n",
              "    <tr style=\"text-align: right;\">\n",
              "      <th></th>\n",
              "      <th>age</th>\n",
              "      <th>sex</th>\n",
              "      <th>cp</th>\n",
              "      <th>trestbps</th>\n",
              "      <th>chol</th>\n",
              "      <th>fbs</th>\n",
              "      <th>restecg</th>\n",
              "      <th>thalach</th>\n",
              "      <th>exang</th>\n",
              "      <th>oldpeak</th>\n",
              "      <th>slope</th>\n",
              "      <th>ca</th>\n",
              "      <th>thal</th>\n",
              "      <th>target</th>\n",
              "    </tr>\n",
              "  </thead>\n",
              "  <tbody>\n",
              "    <tr>\n",
              "      <th>0</th>\n",
              "      <td>52</td>\n",
              "      <td>1</td>\n",
              "      <td>0</td>\n",
              "      <td>125</td>\n",
              "      <td>212</td>\n",
              "      <td>0</td>\n",
              "      <td>1</td>\n",
              "      <td>168</td>\n",
              "      <td>0</td>\n",
              "      <td>1.0</td>\n",
              "      <td>2</td>\n",
              "      <td>2</td>\n",
              "      <td>3</td>\n",
              "      <td>0</td>\n",
              "    </tr>\n",
              "    <tr>\n",
              "      <th>1</th>\n",
              "      <td>53</td>\n",
              "      <td>1</td>\n",
              "      <td>0</td>\n",
              "      <td>140</td>\n",
              "      <td>203</td>\n",
              "      <td>1</td>\n",
              "      <td>0</td>\n",
              "      <td>155</td>\n",
              "      <td>1</td>\n",
              "      <td>3.1</td>\n",
              "      <td>0</td>\n",
              "      <td>0</td>\n",
              "      <td>3</td>\n",
              "      <td>0</td>\n",
              "    </tr>\n",
              "    <tr>\n",
              "      <th>2</th>\n",
              "      <td>70</td>\n",
              "      <td>1</td>\n",
              "      <td>0</td>\n",
              "      <td>145</td>\n",
              "      <td>174</td>\n",
              "      <td>0</td>\n",
              "      <td>1</td>\n",
              "      <td>125</td>\n",
              "      <td>1</td>\n",
              "      <td>2.6</td>\n",
              "      <td>0</td>\n",
              "      <td>0</td>\n",
              "      <td>3</td>\n",
              "      <td>0</td>\n",
              "    </tr>\n",
              "    <tr>\n",
              "      <th>3</th>\n",
              "      <td>61</td>\n",
              "      <td>1</td>\n",
              "      <td>0</td>\n",
              "      <td>148</td>\n",
              "      <td>203</td>\n",
              "      <td>0</td>\n",
              "      <td>1</td>\n",
              "      <td>161</td>\n",
              "      <td>0</td>\n",
              "      <td>0.0</td>\n",
              "      <td>2</td>\n",
              "      <td>1</td>\n",
              "      <td>3</td>\n",
              "      <td>0</td>\n",
              "    </tr>\n",
              "    <tr>\n",
              "      <th>4</th>\n",
              "      <td>62</td>\n",
              "      <td>0</td>\n",
              "      <td>0</td>\n",
              "      <td>138</td>\n",
              "      <td>294</td>\n",
              "      <td>1</td>\n",
              "      <td>1</td>\n",
              "      <td>106</td>\n",
              "      <td>0</td>\n",
              "      <td>1.9</td>\n",
              "      <td>1</td>\n",
              "      <td>3</td>\n",
              "      <td>2</td>\n",
              "      <td>0</td>\n",
              "    </tr>\n",
              "    <tr>\n",
              "      <th>5</th>\n",
              "      <td>58</td>\n",
              "      <td>0</td>\n",
              "      <td>0</td>\n",
              "      <td>100</td>\n",
              "      <td>248</td>\n",
              "      <td>0</td>\n",
              "      <td>0</td>\n",
              "      <td>122</td>\n",
              "      <td>0</td>\n",
              "      <td>1.0</td>\n",
              "      <td>1</td>\n",
              "      <td>0</td>\n",
              "      <td>2</td>\n",
              "      <td>1</td>\n",
              "    </tr>\n",
              "    <tr>\n",
              "      <th>6</th>\n",
              "      <td>58</td>\n",
              "      <td>1</td>\n",
              "      <td>0</td>\n",
              "      <td>114</td>\n",
              "      <td>318</td>\n",
              "      <td>0</td>\n",
              "      <td>2</td>\n",
              "      <td>140</td>\n",
              "      <td>0</td>\n",
              "      <td>4.4</td>\n",
              "      <td>0</td>\n",
              "      <td>3</td>\n",
              "      <td>1</td>\n",
              "      <td>0</td>\n",
              "    </tr>\n",
              "    <tr>\n",
              "      <th>7</th>\n",
              "      <td>55</td>\n",
              "      <td>1</td>\n",
              "      <td>0</td>\n",
              "      <td>160</td>\n",
              "      <td>289</td>\n",
              "      <td>0</td>\n",
              "      <td>0</td>\n",
              "      <td>145</td>\n",
              "      <td>1</td>\n",
              "      <td>0.8</td>\n",
              "      <td>1</td>\n",
              "      <td>1</td>\n",
              "      <td>3</td>\n",
              "      <td>0</td>\n",
              "    </tr>\n",
              "    <tr>\n",
              "      <th>8</th>\n",
              "      <td>46</td>\n",
              "      <td>1</td>\n",
              "      <td>0</td>\n",
              "      <td>120</td>\n",
              "      <td>249</td>\n",
              "      <td>0</td>\n",
              "      <td>0</td>\n",
              "      <td>144</td>\n",
              "      <td>0</td>\n",
              "      <td>0.8</td>\n",
              "      <td>2</td>\n",
              "      <td>0</td>\n",
              "      <td>3</td>\n",
              "      <td>0</td>\n",
              "    </tr>\n",
              "    <tr>\n",
              "      <th>9</th>\n",
              "      <td>54</td>\n",
              "      <td>1</td>\n",
              "      <td>0</td>\n",
              "      <td>122</td>\n",
              "      <td>286</td>\n",
              "      <td>0</td>\n",
              "      <td>0</td>\n",
              "      <td>116</td>\n",
              "      <td>1</td>\n",
              "      <td>3.2</td>\n",
              "      <td>1</td>\n",
              "      <td>2</td>\n",
              "      <td>2</td>\n",
              "      <td>0</td>\n",
              "    </tr>\n",
              "    <tr>\n",
              "      <th>10</th>\n",
              "      <td>71</td>\n",
              "      <td>0</td>\n",
              "      <td>0</td>\n",
              "      <td>112</td>\n",
              "      <td>149</td>\n",
              "      <td>0</td>\n",
              "      <td>1</td>\n",
              "      <td>125</td>\n",
              "      <td>0</td>\n",
              "      <td>1.6</td>\n",
              "      <td>1</td>\n",
              "      <td>0</td>\n",
              "      <td>2</td>\n",
              "      <td>1</td>\n",
              "    </tr>\n",
              "    <tr>\n",
              "      <th>11</th>\n",
              "      <td>43</td>\n",
              "      <td>0</td>\n",
              "      <td>0</td>\n",
              "      <td>132</td>\n",
              "      <td>341</td>\n",
              "      <td>1</td>\n",
              "      <td>0</td>\n",
              "      <td>136</td>\n",
              "      <td>1</td>\n",
              "      <td>3.0</td>\n",
              "      <td>1</td>\n",
              "      <td>0</td>\n",
              "      <td>3</td>\n",
              "      <td>0</td>\n",
              "    </tr>\n",
              "    <tr>\n",
              "      <th>12</th>\n",
              "      <td>34</td>\n",
              "      <td>0</td>\n",
              "      <td>1</td>\n",
              "      <td>118</td>\n",
              "      <td>210</td>\n",
              "      <td>0</td>\n",
              "      <td>1</td>\n",
              "      <td>192</td>\n",
              "      <td>0</td>\n",
              "      <td>0.7</td>\n",
              "      <td>2</td>\n",
              "      <td>0</td>\n",
              "      <td>2</td>\n",
              "      <td>1</td>\n",
              "    </tr>\n",
              "    <tr>\n",
              "      <th>13</th>\n",
              "      <td>51</td>\n",
              "      <td>1</td>\n",
              "      <td>0</td>\n",
              "      <td>140</td>\n",
              "      <td>298</td>\n",
              "      <td>0</td>\n",
              "      <td>1</td>\n",
              "      <td>122</td>\n",
              "      <td>1</td>\n",
              "      <td>4.2</td>\n",
              "      <td>1</td>\n",
              "      <td>3</td>\n",
              "      <td>3</td>\n",
              "      <td>0</td>\n",
              "    </tr>\n",
              "    <tr>\n",
              "      <th>14</th>\n",
              "      <td>52</td>\n",
              "      <td>1</td>\n",
              "      <td>0</td>\n",
              "      <td>128</td>\n",
              "      <td>204</td>\n",
              "      <td>1</td>\n",
              "      <td>1</td>\n",
              "      <td>156</td>\n",
              "      <td>1</td>\n",
              "      <td>1.0</td>\n",
              "      <td>1</td>\n",
              "      <td>0</td>\n",
              "      <td>0</td>\n",
              "      <td>0</td>\n",
              "    </tr>\n",
              "  </tbody>\n",
              "</table>\n",
              "</div>"
            ],
            "text/plain": [
              "    age  sex  cp  trestbps  chol  fbs  restecg  thalach  exang  oldpeak  \\\n",
              "0    52    1   0       125   212    0        1      168      0      1.0   \n",
              "1    53    1   0       140   203    1        0      155      1      3.1   \n",
              "2    70    1   0       145   174    0        1      125      1      2.6   \n",
              "3    61    1   0       148   203    0        1      161      0      0.0   \n",
              "4    62    0   0       138   294    1        1      106      0      1.9   \n",
              "5    58    0   0       100   248    0        0      122      0      1.0   \n",
              "6    58    1   0       114   318    0        2      140      0      4.4   \n",
              "7    55    1   0       160   289    0        0      145      1      0.8   \n",
              "8    46    1   0       120   249    0        0      144      0      0.8   \n",
              "9    54    1   0       122   286    0        0      116      1      3.2   \n",
              "10   71    0   0       112   149    0        1      125      0      1.6   \n",
              "11   43    0   0       132   341    1        0      136      1      3.0   \n",
              "12   34    0   1       118   210    0        1      192      0      0.7   \n",
              "13   51    1   0       140   298    0        1      122      1      4.2   \n",
              "14   52    1   0       128   204    1        1      156      1      1.0   \n",
              "\n",
              "    slope  ca  thal  target  \n",
              "0       2   2     3       0  \n",
              "1       0   0     3       0  \n",
              "2       0   0     3       0  \n",
              "3       2   1     3       0  \n",
              "4       1   3     2       0  \n",
              "5       1   0     2       1  \n",
              "6       0   3     1       0  \n",
              "7       1   1     3       0  \n",
              "8       2   0     3       0  \n",
              "9       1   2     2       0  \n",
              "10      1   0     2       1  \n",
              "11      1   0     3       0  \n",
              "12      2   0     2       1  \n",
              "13      1   3     3       0  \n",
              "14      1   0     0       0  "
            ]
          },
          "execution_count": 12,
          "metadata": {},
          "output_type": "execute_result"
        }
      ],
      "source": [
        "#Displaying the First 15 rows\n",
        "heart_disease.head(15)"
      ]
    },
    {
      "cell_type": "code",
      "execution_count": null,
      "id": "1620d6a4",
      "metadata": {
        "id": "1620d6a4",
        "outputId": "78553b9d-e755-4457-a770-8a8acfb2eb3a"
      },
      "outputs": [
        {
          "name": "stderr",
          "output_type": "stream",
          "text": [
            "C:\\Users\\PC\\anaconda3\\envs\\tensorflow\\lib\\site-packages\\seaborn\\_decorators.py:36: FutureWarning: Pass the following variable as a keyword arg: x. From version 0.12, the only valid positional argument will be `data`, and passing other arguments without an explicit keyword will result in an error or misinterpretation.\n",
            "  warnings.warn(\n"
          ]
        },
        {
          "data": {
            "text/plain": [
              "[Text(0, 0, 'Non Heart Disease'), Text(1, 0, 'Heart Disease')]"
            ]
          },
          "execution_count": 13,
          "metadata": {},
          "output_type": "execute_result"
        },
        {
          "data": {
            "image/png": "[encoded data removed]",
            "text/plain": [
              "<Figure size 576x432 with 1 Axes>"
            ]
          },
          "metadata": {
            "needs_background": "light"
          },
          "output_type": "display_data"
        }
      ],
      "source": [
        "#Histogram for Heart Disease and Non Heart Disease\n",
        "plt.figure(figsize=(8, 6))\n",
        "ax=sns.countplot(heart_disease['target'])\n",
        "ax.set_xticklabels(['Non Heart Disease', 'Heart Disease'])"
      ]
    },
    {
      "cell_type": "code",
      "execution_count": null,
      "id": "2794a444",
      "metadata": {
        "id": "2794a444",
        "outputId": "7e7fb372-4f65-4e28-bbbb-e206c0a855f2"
      },
      "outputs": [
        {
          "data": {
            "text/plain": [
              "(50.0, 100.0)"
            ]
          },
          "execution_count": 14,
          "metadata": {},
          "output_type": "execute_result"
        },
        {
          "data": {
            "image/png": "[encoded data removed]",
            "text/plain": [
              "<Figure size 690.375x216 with 1 Axes>"
            ]
          },
          "metadata": {
            "needs_background": "light"
          },
          "output_type": "display_data"
        }
      ],
      "source": [
        "#AGE vs Non-demented and Heart\n",
        "facet= sns.FacetGrid(heart_disease,hue=\"target\", aspect=3)\n",
        "facet.map(sns.kdeplot,'age',shade= True)\n",
        "facet.set(xlim=(0, heart_disease['age'].max()))\n",
        "facet.add_legend()\n",
        "plt.xlim(50, 100)"
      ]
    },
    {
      "cell_type": "markdown",
      "id": "88758685",
      "metadata": {
        "id": "88758685"
      },
      "source": [
        "# RANDOM FOREST CLASSIFIER"
      ]
    },
    {
      "cell_type": "code",
      "execution_count": null,
      "id": "1224f507",
      "metadata": {
        "id": "1224f507"
      },
      "outputs": [],
      "source": [
        "#spliting the data for target and features\n",
        "X = heart_disease.drop(columns='target', axis=1)\n",
        "y = heart_disease.target"
      ]
    },
    {
      "cell_type": "code",
      "execution_count": null,
      "id": "bc63271e",
      "metadata": {
        "id": "bc63271e"
      },
      "outputs": [],
      "source": [
        "#Test Size 30%, 70% for Training\n",
        "x_train,x_test,y_train,y_test = train_test_split(X, y, test_size=0.3)"
      ]
    },
    {
      "cell_type": "code",
      "execution_count": null,
      "id": "21462005",
      "metadata": {
        "id": "21462005"
      },
      "outputs": [],
      "source": [
        "#Importing Random Forest Classifier\n",
        "from sklearn.ensemble import RandomForestClassifier"
      ]
    },
    {
      "cell_type": "code",
      "execution_count": null,
      "id": "44a51818",
      "metadata": {
        "id": "44a51818"
      },
      "outputs": [],
      "source": [
        "#Creating an instance of Random Forest\n",
        "rn = RandomForestClassifier(n_estimators=100)"
      ]
    },
    {
      "cell_type": "code",
      "execution_count": null,
      "id": "40be6af4",
      "metadata": {
        "id": "40be6af4",
        "outputId": "5369fd0b-b10a-48ec-91de-a060af5f5473"
      },
      "outputs": [
        {
          "data": {
            "text/plain": [
              "RandomForestClassifier()"
            ]
          },
          "execution_count": 19,
          "metadata": {},
          "output_type": "execute_result"
        }
      ],
      "source": [
        "#Training the random forest model\n",
        "rn.fit(x_train,y_train)"
      ]
    },
    {
      "cell_type": "code",
      "execution_count": null,
      "id": "896f2fa9",
      "metadata": {
        "id": "896f2fa9"
      },
      "outputs": [],
      "source": [
        "#Predicting on the test dat\n",
        "pred = rn.predict(x_test)"
      ]
    },
    {
      "cell_type": "code",
      "execution_count": null,
      "id": "a888479f",
      "metadata": {
        "id": "a888479f"
      },
      "outputs": [],
      "source": [
        "\n",
        "#importing classification report to evaluate the performance of the model\n",
        "\n",
        "from sklearn.metrics import classification_report"
      ]
    },
    {
      "cell_type": "code",
      "execution_count": null,
      "id": "b24007a0",
      "metadata": {
        "id": "b24007a0",
        "outputId": "6952dbd1-e496-412c-899f-681928484b18"
      },
      "outputs": [
        {
          "name": "stdout",
          "output_type": "stream",
          "text": [
            "              precision    recall  f1-score   support\n",
            "\n",
            "           0       0.98      1.00      0.99       147\n",
            "           1       1.00      0.98      0.99       161\n",
            "\n",
            "    accuracy                           0.99       308\n",
            "   macro avg       0.99      0.99      0.99       308\n",
            "weighted avg       0.99      0.99      0.99       308\n",
            "\n"
          ]
        }
      ],
      "source": [
        "#This display the result of the Random Forest model on the test data. The evaluation was done in terms of accuracy and precision, support and f1-score\n",
        "#Here the Random Forest model obtained an accuracy result of 99%.\n",
        "print(classification_report(y_test, pred))"
      ]
    },
    {
      "cell_type": "markdown",
      "id": "dc810c6b",
      "metadata": {
        "id": "dc810c6b"
      },
      "source": [
        "# Logistic Regression"
      ]
    },
    {
      "cell_type": "code",
      "execution_count": null,
      "id": "bd4aecf6",
      "metadata": {
        "id": "bd4aecf6"
      },
      "outputs": [],
      "source": [
        "#Importing Logistic Regression Model\n",
        "from sklearn.linear_model import LogisticRegression"
      ]
    },
    {
      "cell_type": "code",
      "execution_count": null,
      "id": "992d0cd0",
      "metadata": {
        "id": "992d0cd0"
      },
      "outputs": [],
      "source": [
        "#Creating an Instance of the Logistic Regression Model\n",
        "lr = LogisticRegression()"
      ]
    },
    {
      "cell_type": "code",
      "execution_count": null,
      "id": "29c00b38",
      "metadata": {
        "id": "29c00b38",
        "outputId": "d813bd28-11e7-4f64-f96a-dd904846ead2"
      },
      "outputs": [
        {
          "name": "stderr",
          "output_type": "stream",
          "text": [
            "C:\\Users\\PC\\anaconda3\\envs\\tensorflow\\lib\\site-packages\\sklearn\\linear_model\\_logistic.py:814: ConvergenceWarning: lbfgs failed to converge (status=1):\n",
            "STOP: TOTAL NO. of ITERATIONS REACHED LIMIT.\n",
            "\n",
            "Increase the number of iterations (max_iter) or scale the data as shown in:\n",
            "    https://scikit-learn.org/stable/modules/preprocessing.html\n",
            "Please also refer to the documentation for alternative solver options:\n",
            "    https://scikit-learn.org/stable/modules/linear_model.html#logistic-regression\n",
            "  n_iter_i = _check_optimize_result(\n"
          ]
        },
        {
          "data": {
            "text/plain": [
              "LogisticRegression()"
            ]
          },
          "execution_count": 25,
          "metadata": {},
          "output_type": "execute_result"
        }
      ],
      "source": [
        "#Model training using the training data\n",
        "lr.fit(x_train,y_train)"
      ]
    },
    {
      "cell_type": "code",
      "execution_count": null,
      "id": "52dd097a",
      "metadata": {
        "id": "52dd097a"
      },
      "outputs": [],
      "source": [
        "#Using the Logistic Regression Model to predict on the test data, and assigning the predicted result to the variable called pred1\n",
        "pred1 = lr.predict(x_test)"
      ]
    },
    {
      "cell_type": "code",
      "execution_count": null,
      "id": "36047d71",
      "metadata": {
        "id": "36047d71",
        "outputId": "6cbf730a-5a05-49b2-89a2-0c69e62ed9ef"
      },
      "outputs": [
        {
          "name": "stdout",
          "output_type": "stream",
          "text": [
            "              precision    recall  f1-score   support\n",
            "\n",
            "           0       0.89      0.80      0.85       147\n",
            "           1       0.84      0.91      0.87       161\n",
            "\n",
            "    accuracy                           0.86       308\n",
            "   macro avg       0.86      0.86      0.86       308\n",
            "weighted avg       0.86      0.86      0.86       308\n",
            "\n"
          ]
        }
      ],
      "source": [
        "#Evaluating the performance of the logistic regression model on the test data. The evaluation is done in terms of accuracy, precision, support and F1-score\n",
        "#Here the logistic regression model obtained an accuracy result of 86%.\n",
        "print(classification_report(y_test, pred1))"
      ]
    },
    {
      "cell_type": "code",
      "execution_count": null,
      "id": "1b3305b6",
      "metadata": {
        "id": "1b3305b6"
      },
      "outputs": [],
      "source": []
    }
  ],
  "metadata": {
    "colab": {
      "collapsed_sections": [],
      "name": "Data_Analysis.ipynb",
      "provenance": []
    },
    "kernelspec": {
      "display_name": "Python 3",
      "language": "python",
      "name": "python3"
    },
    "language_info": {
      "codemirror_mode": {
        "name": "ipython",
        "version": 3
      },
      "file_extension": ".py",
      "mimetype": "text/x-python",
      "name": "python",
      "nbconvert_exporter": "python",
      "pygments_lexer": "ipython3",
      "version": "3.8.8"
    }
  },
  "nbformat": 4,
  "nbformat_minor": 5
}
